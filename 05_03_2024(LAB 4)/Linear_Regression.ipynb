{
 "cells": [
  {
   "cell_type": "code",
   "execution_count": 2,
   "id": "b9f1d5cc",
   "metadata": {},
   "outputs": [],
   "source": [
    "import pandas as pd\n",
    "import numpy as np\n",
    "import matplotlib.pyplot as plt\n",
    "import random "
   ]
  },
  {
   "cell_type": "code",
   "execution_count": 12,
   "id": "639487bc",
   "metadata": {},
   "outputs": [
    {
     "ename": "NameError",
     "evalue": "name 'pd' is not defined",
     "output_type": "error",
     "traceback": [
      "\u001b[0;31m---------------------------------------------------------------------------\u001b[0m",
      "\u001b[0;31mNameError\u001b[0m                                 Traceback (most recent call last)",
      "Cell \u001b[0;32mIn[12], line 1\u001b[0m\n\u001b[0;32m----> 1\u001b[0m data \u001b[38;5;241m=\u001b[39m \u001b[43mpd\u001b[49m\u001b[38;5;241m.\u001b[39mread_csv(\u001b[38;5;124m'\u001b[39m\u001b[38;5;124m./Salary_Data.csv\u001b[39m\u001b[38;5;124m'\u001b[39m)\n",
      "\u001b[0;31mNameError\u001b[0m: name 'pd' is not defined"
     ]
    }
   ],
   "source": [
    "data = pd.read_csv('./Salary_Data.csv')"
   ]
  },
  {
   "cell_type": "code",
   "execution_count": 10,
   "id": "e1460ced",
   "metadata": {},
   "outputs": [],
   "source": [
    "class SimpleLinearRegression:\n",
    "    \n",
    "    def __init__(self, learning_rate=0.01, iterations = 2000):\n",
    "        self.learning_rate=learning_rate\n",
    "        self.iterations=iterations\n",
    "        self.cofficients = None\n",
    "        self.intercept = None\n",
    "        \n",
    "    def predict(self, X):\n",
    "        return self.intercept + self.cofficients * X\n",
    "        \n",
    "    def fit(self,X,y):\n",
    "        self.cofficients = 0\n",
    "        self.intercept = 0\n",
    "        n=len(X)\n",
    "        \n",
    "        for i in range(self.iterations):\n",
    "            y_predicted = self.predict(X)\n",
    "            \n",
    "            d_cofficient = (-2/n)*sum(X*(y-y_predicted))\n",
    "            d_intercept =  (-2/n) *sum((y-y_predicted))\n",
    "            \n",
    "            self.cofficients -= self.learning_rate * d_cofficient\n",
    "            self.intercept -= self.learning_rate * d_intercept"
   ]
  },
  {
   "cell_type": "code",
   "execution_count": 17,
   "id": "ec6917aa",
   "metadata": {},
   "outputs": [],
   "source": [
    "def train_test_splitter(X, y, test_size = 0.2):\n",
    "    indices = list(range(len(X)))\n",
    "    random.shuffle(indices)\n",
    "    \n",
    "    test_set_size = int(len(X) * test_size)\n",
    "    \n",
    "    test_indices = indices[:test_set_size]\n",
    "    train_indices = indices[test_set_size:]\n",
    "    \n",
    "    X_train = np.array([X[i] for i in train_indices])\n",
    "    X_test = np.array([X[i] for i in test_indices])\n",
    "    y_train = np.array([y[i] for i in train_indices])\n",
    "    y_test = np.array([y[i] for i in test_indices])\n",
    "    \n",
    "    return X_test, y_train, X_train, y_test"
   ]
  },
  {
   "cell_type": "code",
   "execution_count": 18,
   "id": "904093a9",
   "metadata": {},
   "outputs": [],
   "source": [
    "X_test, y_train, X_train, y_test = train_test_splitter(data.YearsExperience, data.Salary)"
   ]
  },
  {
   "cell_type": "code",
   "execution_count": 19,
   "id": "f9dfff5b",
   "metadata": {},
   "outputs": [],
   "source": [
    "model = SimpleLinearRegression()"
   ]
  },
  {
   "cell_type": "code",
   "execution_count": 20,
   "id": "dcaa50f9",
   "metadata": {},
   "outputs": [],
   "source": [
    "model.fit(X_train, y_train)\n",
    "predicted = model.predict(X_test)"
   ]
  },
  {
   "cell_type": "code",
   "execution_count": 5,
   "id": "99243d81",
   "metadata": {},
   "outputs": [
    {
     "ename": "NameError",
     "evalue": "name 'plt' is not defined",
     "output_type": "error",
     "traceback": [
      "\u001b[0;31m---------------------------------------------------------------------------\u001b[0m",
      "\u001b[0;31mNameError\u001b[0m                                 Traceback (most recent call last)",
      "Cell \u001b[0;32mIn[5], line 1\u001b[0m\n\u001b[0;32m----> 1\u001b[0m \u001b[43mplt\u001b[49m\u001b[38;5;241m.\u001b[39mscatter(X_test, y_test )\n\u001b[1;32m      2\u001b[0m plt\u001b[38;5;241m.\u001b[39mlegend(\u001b[38;5;124m'\u001b[39m\u001b[38;5;124ma\u001b[39m\u001b[38;5;124m'\u001b[39m)\n\u001b[1;32m      3\u001b[0m \u001b[38;5;66;03m# plt.show()\u001b[39;00m\n",
      "\u001b[0;31mNameError\u001b[0m: name 'plt' is not defined"
     ]
    }
   ],
   "source": [
    "plt.scatter(X_test, y_test )\n",
    "plt.legend('a')\n",
    "# plt.show()\n",
    "plt.plot(X_test, predicted)"
   ]
  },
  {
   "cell_type": "code",
   "execution_count": 8,
   "id": "16b400fe",
   "metadata": {},
   "outputs": [],
   "source": [
    "from sklearn.metrics import r2_score as err"
   ]
  },
  {
   "cell_type": "code",
   "execution_count": 10,
   "id": "32291c11",
   "metadata": {},
   "outputs": [
    {
     "ename": "NameError",
     "evalue": "name 'y_test' is not defined",
     "output_type": "error",
     "traceback": [
      "\u001b[0;31m---------------------------------------------------------------------------\u001b[0m",
      "\u001b[0;31mNameError\u001b[0m                                 Traceback (most recent call last)",
      "Cell \u001b[0;32mIn[10], line 1\u001b[0m\n\u001b[0;32m----> 1\u001b[0m err(\u001b[43my_test\u001b[49m, predicted)\n",
      "\u001b[0;31mNameError\u001b[0m: name 'y_test' is not defined"
     ]
    }
   ],
   "source": [
    "err(y_test, predicted)"
   ]
  },
  {
   "cell_type": "code",
   "execution_count": 11,
   "id": "0436584b",
   "metadata": {},
   "outputs": [
    {
     "ename": "NameError",
     "evalue": "name 'pd' is not defined",
     "output_type": "error",
     "traceback": [
      "\u001b[0;31m---------------------------------------------------------------------------\u001b[0m",
      "\u001b[0;31mNameError\u001b[0m                                 Traceback (most recent call last)",
      "Cell \u001b[0;32mIn[11], line 1\u001b[0m\n\u001b[0;32m----> 1\u001b[0m \u001b[43mpd\u001b[49m\u001b[38;5;241m.\u001b[39mDataFrame(data \u001b[38;5;241m=\u001b[39m {\u001b[38;5;124m'\u001b[39m\u001b[38;5;124mpredicted\u001b[39m\u001b[38;5;124m'\u001b[39m : predicted, \u001b[38;5;124m'\u001b[39m\u001b[38;5;124mactual\u001b[39m\u001b[38;5;124m'\u001b[39m : y_test})\n",
      "\u001b[0;31mNameError\u001b[0m: name 'pd' is not defined"
     ]
    }
   ],
   "source": [
    "pd.DataFrame(data = {'predicted' : predicted, 'actual' : y_test})"
   ]
  }
 ],
 "metadata": {
  "kernelspec": {
   "display_name": "Python 3 (ipykernel)",
   "language": "python",
   "name": "python3"
  },
  "language_info": {
   "codemirror_mode": {
    "name": "ipython",
    "version": 3
   },
   "file_extension": ".py",
   "mimetype": "text/x-python",
   "name": "python",
   "nbconvert_exporter": "python",
   "pygments_lexer": "ipython3",
   "version": "3.11.5"
  }
 },
 "nbformat": 4,
 "nbformat_minor": 5
}
