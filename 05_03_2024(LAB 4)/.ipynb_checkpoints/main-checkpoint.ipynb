{
 "cells": [
  {
   "cell_type": "code",
   "execution_count": null,
   "metadata": {},
   "outputs": [],
   "source": [
    "class LinearRegression:\n",
    "    def _init_(self, learning_rate=0.01, iterations=2000):\n",
    "        self.learning_rate = learning_rate\n",
    "        self.iterations = iterations\n",
    "        self.coefficient = None\n",
    "        self.intercept = None\n",
    "\n",
    "    def fit(self, x, y):\n",
    "        self.coefficient = 0\n",
    "        self.intercept = 0\n",
    "        n = len(x)\n",
    "\n",
    "        for _ in range(self.iterations):\n",
    "            y_predicted = self.predict(X)\n",
    "            d_coefficient = (-2/n) * sum(X * (y - y_predicted))\n",
    "            d_intercept =  (-2/n) * sum(y - y_predicted)\n",
    "            self.coefficient -= self.learning_rate * d_coefficient\n",
    "            self.intercept -= self.learning_rate * d_intercept\n",
    "    \n",
    "    def predict(self, X):\n",
    "        return self.intercept + self.coefficient * X\n",
    "    \n",
    "    x = dataset.iloc[:,0].values\n",
    "    y = dataset.iloc[:,1].values\n",
    "\n",
    "    def train_test_splitter(X, y, test_size = 0.2):\n",
    "        indices = list(range(len(X)))\n",
    "        random.shuffle(indices)\n",
    "        test_set_size = int(len(X) * test_size)\n",
    "\n",
    "        test_indices = indices[:test_set_size]\n",
    "        train_indices = indices[test_set_size:]\n",
    "\n",
    "        x_train = np.array([x[i] for i in train_indices])\n",
    "        y_train = np.array([y[i] for i in train_indices])\n",
    "        x_test = np.array([x[i] for i in train_indices])\n",
    "        y_train = np.array([y[i] for i in train_indices])\n"
   ]
  },
  {
   "cell_type": "code",
   "execution_count": null,
   "metadata": {},
   "outputs": [],
   "source": []
  }
 ],
 "metadata": {
  "language_info": {
   "name": "python"
  }
 },
 "nbformat": 4,
 "nbformat_minor": 2
}
