{
 "cells": [
  {
   "cell_type": "code",
   "execution_count": 1,
   "id": "9da8a111-39e1-4450-817c-2a2a944ef1d9",
   "metadata": {},
   "outputs": [
    {
     "name": "stdout",
     "output_type": "stream",
     "text": [
      "Name: BELERICK GONZALVES\n",
      "Age: 25\n",
      "Height: 125.5\n"
     ]
    }
   ],
   "source": [
    "# Variable and Data Types\n",
    "name = \"BELERICK GONZALVES\"\n",
    "age = 25\n",
    "height = 125.5\n",
    "print(\"Name:\", name)\n",
    "print(\"Age:\", age)\n",
    "print(\"Height:\", height)"
   ]
  },
  {
   "cell_type": "code",
   "execution_count": 2,
   "id": "1b9ee657-51b2-4336-807a-0e0c590024ff",
   "metadata": {},
   "outputs": [
    {
     "name": "stdout",
     "output_type": "stream",
     "text": [
      "Current Age: 25\n",
      "Average: 75.25\n"
     ]
    }
   ],
   "source": [
    "# Basic Operations\n",
    "birth_year = 1999\n",
    "current_year = 2024\n",
    "current_age = current_year - birth_year\n",
    "average = (age + height) / 2\n",
    "print(\"Current Age:\", current_age)\n",
    "print(\"Average:\", average)"
   ]
  },
  {
   "cell_type": "code",
   "execution_count": 3,
   "id": "4e884f7f-ea60-44a5-a094-3e87c37ed2ec",
   "metadata": {},
   "outputs": [
    {
     "name": "stdout",
     "output_type": "stream",
     "text": [
      "Greeting: Hello, BELERICK GONZALVES\n"
     ]
    }
   ],
   "source": [
    "# String Manipulation\n",
    "greeting = \"Hello, \"\n",
    "full_greeting = greeting + name\n",
    "print(\"Greeting:\", full_greeting)"
   ]
  },
  {
   "cell_type": "code",
   "execution_count": 4,
   "id": "368cb15c-acdb-4ed8-91ea-a52f45a59b10",
   "metadata": {},
   "outputs": [
    {
     "name": "stdout",
     "output_type": "stream",
     "text": [
      "You are an adult.\n"
     ]
    }
   ],
   "source": [
    "# if-else Statement\n",
    "if age > 18:\n",
    "    print(\"You are an adult.\")\n",
    "else:\n",
    "    print(\"You are a minor.\")"
   ]
  },
  {
   "cell_type": "code",
   "execution_count": 7,
   "id": "fe2d4e09-2841-486a-bd69-9ed7c04eb08e",
   "metadata": {},
   "outputs": [
    {
     "name": "stdout",
     "output_type": "stream",
     "text": [
      "Printing numbers using Loop:\n",
      "1\n",
      "2\n",
      "3\n",
      "4\n",
      "5\n"
     ]
    }
   ],
   "source": [
    "# Loops\n",
    "numbers = [1,2,3,4,5]\n",
    "print(\"Printing numbers using Loop:\")\n",
    "for i in numbers:\n",
    "    print(i)"
   ]
  },
  {
   "cell_type": "code",
   "execution_count": 8,
   "id": "83d84239-5c7a-440a-a55e-3c18aee25476",
   "metadata": {},
   "outputs": [
    {
     "name": "stdout",
     "output_type": "stream",
     "text": [
      "Favorite Colors: ['Red', 'Green', 'Blue']\n",
      "Number of Colors: 3\n"
     ]
    }
   ],
   "source": [
    "# Lists\n",
    "favorite_colors = [\"Red\", \"Green\", \"Blue\"]\n",
    "print(\"Favorite Colors:\", favorite_colors)\n",
    "print(\"Number of Colors:\", len(favorite_colors))"
   ]
  },
  {
   "cell_type": "code",
   "execution_count": 30,
   "id": "ecb248b3-a23b-4c9e-9477-0b11777a3bbf",
   "metadata": {},
   "outputs": [
    {
     "name": "stdout",
     "output_type": "stream",
     "text": [
      "Coordinates: (10, 20, 'South')\n"
     ]
    }
   ],
   "source": [
    "# Tuples\n",
    "coordinates = (10, 20, \"South\")\n",
    "print(\"Coordinates:\", coordinates)"
   ]
  },
  {
   "cell_type": "code",
   "execution_count": 27,
   "id": "d2fc51d7-ea84-412f-bc22-59e308c8e630",
   "metadata": {},
   "outputs": [
    {
     "name": "stdout",
     "output_type": "stream",
     "text": [
      "['Red', 'Green', 'Blue', 'brown']\n"
     ]
    }
   ],
   "source": [
    "favorite_colors.append(\"brown\")\n",
    "print(favorite_colors)"
   ]
  },
  {
   "cell_type": "code",
   "execution_count": 29,
   "id": "ab6092cd-607f-434f-83d2-5b8b826a60ad",
   "metadata": {},
   "outputs": [
    {
     "ename": "AttributeError",
     "evalue": "'tuple' object has no attribute 'append'",
     "output_type": "error",
     "traceback": [
      "\u001b[0;31m---------------------------------------------------------------------------\u001b[0m",
      "\u001b[0;31mAttributeError\u001b[0m                            Traceback (most recent call last)",
      "Cell \u001b[0;32mIn[29], line 1\u001b[0m\n\u001b[0;32m----> 1\u001b[0m \u001b[43mcoordinates\u001b[49m\u001b[38;5;241;43m.\u001b[39;49m\u001b[43mappend\u001b[49m(\u001b[38;5;124m\"\u001b[39m\u001b[38;5;124mNorth\u001b[39m\u001b[38;5;124m\"\u001b[39m)\n\u001b[1;32m      2\u001b[0m \u001b[38;5;28mprint\u001b[39m(coordinates)\n",
      "\u001b[0;31mAttributeError\u001b[0m: 'tuple' object has no attribute 'append'"
     ]
    }
   ],
   "source": [
    "coordinates.append(\"North\")\n",
    "print(coordinates)"
   ]
  },
  {
   "cell_type": "code",
   "execution_count": 33,
   "id": "ee0dc7e7-3fbe-4977-86b5-db3ff9d1f9b8",
   "metadata": {},
   "outputs": [
    {
     "name": "stdout",
     "output_type": "stream",
     "text": [
      "Person Information: {'Name': 'BELERICK GONZALVES', 'Age': 25, 'Height': 125.5}\n",
      "25\n"
     ]
    }
   ],
   "source": [
    "# Dictionaries\n",
    "person_info = {\"Name\": name, \"Age\": 25, \"Height\": height}\n",
    "print(\"Person Information:\", person_info)\n",
    "print(person_info[\"Age\"])"
   ]
  },
  {
   "cell_type": "code",
   "execution_count": 37,
   "id": "8e864c03-34e4-483e-b923-5c77947bde10",
   "metadata": {},
   "outputs": [
    {
     "name": "stdout",
     "output_type": "stream",
     "text": [
      "Unique Values: {1, 2, 3, 4, 5, 'a'}\n"
     ]
    }
   ],
   "source": [
    "# Sets\n",
    "values = {1, 2, 2, 3, 3, 'a', 'a', 4, 5}\n",
    "print(\"Unique Values:\", values)"
   ]
  },
  {
   "cell_type": "code",
   "execution_count": 21,
   "id": "1f75289e-bcdd-4a8f-9ac2-cb23757f3476",
   "metadata": {},
   "outputs": [
    {
     "name": "stdout",
     "output_type": "stream",
     "text": [
      "50 <class 'int'>\n",
      "125.0 <class 'float'>\n"
     ]
    }
   ],
   "source": [
    "# Typecasting\n",
    "weight_str = \"50\"\n",
    "height_str = \"125\"\n",
    "converted_weight = int(weight_str)\n",
    "converted_height = float(height_str)\n",
    "\n",
    "print(converted_weight, type(converted_weight))\n",
    "print(converted_height, type(converted_height))"
   ]
  },
  {
   "cell_type": "code",
   "execution_count": 1,
   "id": "c70efbd4-bfea-4a92-91b1-345f3bd9ca17",
   "metadata": {},
   "outputs": [
    {
     "name": "stdout",
     "output_type": "stream",
     "text": [
      "Enter your name: ram\n",
      "Hello, {name}! Welcome to Machine Learning Lab.\n"
     ]
    }
   ],
   "source": [
    "# Define a simple function\n",
    "def greet(name):\n",
    "    \"\"\"\n",
    "    Greets the user by printing a welcome message.\n",
    "\n",
    "    Parameters:\n",
    "    - name (str): The name of the user.\n",
    "    \"\"\"\n",
    "    print(f\"Hello, {name}! Welcome to Machine Learning Lab.\")\n",
    "\n",
    "# Call the function\n",
    "user_name = input(\"Enter your name: \")\n",
    "greet(user_name)\n"
   ]
  },
  {
   "cell_type": "code",
   "execution_count": 22,
   "id": "811c9f61-b274-45fa-abb4-fd1827908779",
   "metadata": {},
   "outputs": [
    {
     "name": "stdout",
     "output_type": "stream",
     "text": [
      "Hello, my name is BELERICK GONZALVES, and I am 25 years old.\n"
     ]
    }
   ],
   "source": [
    "# Class and Object\n",
    "class Person:\n",
    "    def __init__(self, name, age, height):\n",
    "        self.name = name\n",
    "        self.age = age\n",
    "        self.height = height\n",
    "\n",
    "    def introduce(self):\n",
    "        print(f\"Hello, my name is {self.name}, and I am {self.age} years old.\")\n",
    "\n",
    "# Instance of class\n",
    "person_instance = Person(name, age, height)\n",
    "person_instance.introduce()"
   ]
  },
  {
   "cell_type": "code",
   "execution_count": null,
   "id": "e2213c22-c246-48cc-86eb-927a230f9562",
   "metadata": {},
   "outputs": [],
   "source": []
  }
 ],
 "metadata": {
  "kernelspec": {
   "display_name": "Python 3 (ipykernel)",
   "language": "python",
   "name": "python3"
  },
  "language_info": {
   "codemirror_mode": {
    "name": "ipython",
    "version": 3
   },
   "file_extension": ".py",
   "mimetype": "text/x-python",
   "name": "python",
   "nbconvert_exporter": "python",
   "pygments_lexer": "ipython3",
   "version": "3.10.0"
  }
 },
 "nbformat": 4,
 "nbformat_minor": 5
}
