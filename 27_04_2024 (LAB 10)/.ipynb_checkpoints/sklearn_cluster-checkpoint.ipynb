{
 "cells": [
  {
   "cell_type": "code",
   "execution_count": 11,
   "id": "221e8235-4c27-4cea-82b9-a9b93cdbaa64",
   "metadata": {},
   "outputs": [
    {
     "name": "stdout",
     "output_type": "stream",
     "text": [
      "Cluster labels: [2 0 0 1 0 0 0 0 0 2 2 2 2 0 1 0 2 0 2 0 2 0 2 2 0 2 2 2 0 0 2 2 2 1 1 0 2\n",
      " 0 0 2 2 0 0 2 2 0 0 2 0 1 2 0 2 2 2 0 2 2 2 0 2 0 0 2 2 2 0 0 2 0 2 0 1 0\n",
      " 1 0 2 0 2 0 0 2 0 0 2 2 2 2 2 0 0 0 2 1 0 0 0 0 0 1 2 0 0 0 2 2 2 0 2 0 0\n",
      " 2 2 0 0 2 2 2 0 2 0 2 2 2 0 2 0 2 2 1 0 2 0 2 2 2 0 2 0 1 2 0 2 0 0 2 2 2\n",
      " 1 0 1 2 1 1 1 0 0 2 0 1 2 2 0 1 2 2 2 0 0 0 0 2 0 0 2 2 0 0 0 0 2 2 0 2 0\n",
      " 1 2 2 0 0 0 2 0 2 2 0 0 0 0 1 2 2 0 2 0 2 0 2 2 0 2 0 0 1 2 0 0 0 0 0 1 0\n",
      " 2 2 0 2 2 0 1 1 0 2 0 0 2 1 2 0 1 2 1 2 2 0 0 1 0 0 0 2 0 0 2 0 0 0 0 0 2\n",
      " 0 0 2 0 0 0 0 1 0 0 1 0 2 1 0 0 1 1 0 2 0 1 2 2 2 2 2 0 0 2 0 1 2 2 2 1 2\n",
      " 2 1 0 0 2 0 2 0 0 0 0 0 2 0 0 2 2 2 0 2 0 0 0 2 2 2 2 2 0 2 0 0 2 0 0 1 2\n",
      " 0 1 2 2 0 2 0 2 0 2 0 0 2 0 2 0 2 1 0 2 1 2 2 2 0 0 1 0 0 0 0 0 0 0 0 0 0\n",
      " 2 0 0 2 2 0 1 0 0 2 2]\n",
      "Number of data points in each cluster: (3, 2)\n"
     ]
    },
    {
     "name": "stderr",
     "output_type": "stream",
     "text": [
      "/tmp/ipykernel_8380/1282297139.py:16: SettingWithCopyWarning: \n",
      "A value is trying to be set on a copy of a slice from a DataFrame.\n",
      "Try using .loc[row_indexer,col_indexer] = value instead\n",
      "\n",
      "See the caveats in the documentation: https://pandas.pydata.org/pandas-docs/stable/user_guide/indexing.html#returning-a-view-versus-a-copy\n",
      "  X[\"Cluster\"] = cluster_labels\n"
     ]
    },
    {
     "data": {
      "text/html": [
       "<div>\n",
       "<style scoped>\n",
       "    .dataframe tbody tr th:only-of-type {\n",
       "        vertical-align: middle;\n",
       "    }\n",
       "\n",
       "    .dataframe tbody tr th {\n",
       "        vertical-align: top;\n",
       "    }\n",
       "\n",
       "    .dataframe thead th {\n",
       "        text-align: right;\n",
       "    }\n",
       "</style>\n",
       "<table border=\"1\" class=\"dataframe\">\n",
       "  <thead>\n",
       "    <tr style=\"text-align: right;\">\n",
       "      <th></th>\n",
       "      <th>ApplicantIncome</th>\n",
       "      <th>LoanAmount</th>\n",
       "      <th>Cluster</th>\n",
       "    </tr>\n",
       "  </thead>\n",
       "  <tbody>\n",
       "    <tr>\n",
       "      <th>0</th>\n",
       "      <td>4583</td>\n",
       "      <td>128.0</td>\n",
       "      <td>2</td>\n",
       "    </tr>\n",
       "    <tr>\n",
       "      <th>1</th>\n",
       "      <td>3000</td>\n",
       "      <td>66.0</td>\n",
       "      <td>0</td>\n",
       "    </tr>\n",
       "    <tr>\n",
       "      <th>2</th>\n",
       "      <td>2583</td>\n",
       "      <td>120.0</td>\n",
       "      <td>0</td>\n",
       "    </tr>\n",
       "    <tr>\n",
       "      <th>3</th>\n",
       "      <td>6000</td>\n",
       "      <td>141.0</td>\n",
       "      <td>1</td>\n",
       "    </tr>\n",
       "    <tr>\n",
       "      <th>4</th>\n",
       "      <td>2333</td>\n",
       "      <td>95.0</td>\n",
       "      <td>0</td>\n",
       "    </tr>\n",
       "    <tr>\n",
       "      <th>...</th>\n",
       "      <td>...</td>\n",
       "      <td>...</td>\n",
       "      <td>...</td>\n",
       "    </tr>\n",
       "    <tr>\n",
       "      <th>376</th>\n",
       "      <td>5703</td>\n",
       "      <td>128.0</td>\n",
       "      <td>1</td>\n",
       "    </tr>\n",
       "    <tr>\n",
       "      <th>377</th>\n",
       "      <td>3232</td>\n",
       "      <td>108.0</td>\n",
       "      <td>0</td>\n",
       "    </tr>\n",
       "    <tr>\n",
       "      <th>378</th>\n",
       "      <td>2900</td>\n",
       "      <td>71.0</td>\n",
       "      <td>0</td>\n",
       "    </tr>\n",
       "    <tr>\n",
       "      <th>379</th>\n",
       "      <td>4106</td>\n",
       "      <td>40.0</td>\n",
       "      <td>2</td>\n",
       "    </tr>\n",
       "    <tr>\n",
       "      <th>380</th>\n",
       "      <td>4583</td>\n",
       "      <td>133.0</td>\n",
       "      <td>2</td>\n",
       "    </tr>\n",
       "  </tbody>\n",
       "</table>\n",
       "<p>381 rows × 3 columns</p>\n",
       "</div>"
      ],
      "text/plain": [
       "     ApplicantIncome  LoanAmount  Cluster\n",
       "0               4583       128.0        2\n",
       "1               3000        66.0        0\n",
       "2               2583       120.0        0\n",
       "3               6000       141.0        1\n",
       "4               2333        95.0        0\n",
       "..               ...         ...      ...\n",
       "376             5703       128.0        1\n",
       "377             3232       108.0        0\n",
       "378             2900        71.0        0\n",
       "379             4106        40.0        2\n",
       "380             4583       133.0        2\n",
       "\n",
       "[381 rows x 3 columns]"
      ]
     },
     "execution_count": 11,
     "metadata": {},
     "output_type": "execute_result"
    }
   ],
   "source": [
    "import pandas as pd\n",
    "from sklearn.cluster import KMeans\n",
    "\n",
    "data = pd.read_csv('clustering.csv')\n",
    "\n",
    "features = ['ApplicantIncome', 'LoanAmount']\n",
    "X = data[features]\n",
    "K = 3  \n",
    "kmeans = KMeans(n_clusters=K)\n",
    "kmeans.fit(X)\n",
    "cluster_labels = kmeans.labels_\n",
    "data['cluster'] = cluster_labels\n",
    "\n",
    "# print(\"Cluster labels:\", cluster_labels)\n",
    "print(\"Number of data points in each cluster:\", kmeans.cluster_centers_.shape)\n",
    "X[\"Cluster\"] = cluster_labels\n",
    "X"
   ]
  },
  {
   "cell_type": "code",
   "execution_count": 13,
   "id": "ebb9ebc7-2a5c-4b04-be8b-1433d5bac9cc",
   "metadata": {},
   "outputs": [
    {
     "data": {
      "image/png": "[encoded data removed]",
      "text/plain": [
       "<Figure size 432x288 with 1 Axes>"
      ]
     },
     "metadata": {
      "needs_background": "light"
     },
     "output_type": "display_data"
    }
   ],
   "source": [
    "color = ['blue', 'green', 'cyan']\n",
    "for k in range(K):\n",
    "    data = X[X[\"Cluster\"]==k+1]\n",
    "    plt.scatter(data[\"ApplicantIncome\"],data[\"LoanAmount\"],c = color[k])\n",
    "# plt.scatter(Centroids[\"ApplicantIncome\"],Centroids[\"LoanAmount\"],c='red')\n",
    "plt.xlabel('Income')\n",
    "plt.ylabel('Loan Amount (In thousands)')\n",
    "plt.show()"
   ]
  },
  {
   "cell_type": "code",
   "execution_count": null,
   "id": "52160712-a92f-4f1f-ad0d-5112daef2753",
   "metadata": {},
   "outputs": [],
   "source": []
  }
 ],
 "metadata": {
  "kernelspec": {
   "display_name": "Python 3 (ipykernel)",
   "language": "python",
   "name": "python3"
  },
  "language_info": {
   "codemirror_mode": {
    "name": "ipython",
    "version": 3
   },
   "file_extension": ".py",
   "mimetype": "text/x-python",
   "name": "python",
   "nbconvert_exporter": "python",
   "pygments_lexer": "ipython3",
   "version": "3.10.12"
  }
 },
 "nbformat": 4,
 "nbformat_minor": 5
}
